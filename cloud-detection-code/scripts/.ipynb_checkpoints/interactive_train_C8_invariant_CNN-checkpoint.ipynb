{
 "cells": [
  {
   "cell_type": "code",
   "execution_count": 1,
   "id": "e01036a0",
   "metadata": {},
   "outputs": [],
   "source": [
    "#Dirty hack to import modules from relative path\n",
    "import os\n",
    "import sys\n",
    "module_path = os.path.abspath(os.path.join('..'))\n",
    "if module_path not in sys.path:\n",
    "    sys.path.append(module_path)\n",
    "    \n",
    "import torch\n",
    "import torchvision\n",
    "from scripts.c8_invariant_cnn import C8InvariantCNN\n",
    "from scripts.cloud_dataset import CloudDataset \n",
    "from scripts.train_pytorch_model import evaluate_rotational_equivariance, train_model"
   ]
  },
  {
   "cell_type": "code",
   "execution_count": 2,
   "id": "79cc9f2f",
   "metadata": {},
   "outputs": [],
   "source": [
    "device = 'cuda' if torch.cuda.is_available() else 'cpu'\n",
    "model = C8InvariantCNN().to(device)\n",
    "\n",
    "train_set = CloudDataset(\"/Users/alexmeredith/masters-thesis/scitech-dataset/\", \"train\")\n",
    "val_set = CloudDataset(\"/Users/alexmeredith/masters-thesis/scitech-dataset/\", \"validate\")"
   ]
  },
  {
   "cell_type": "code",
   "execution_count": null,
   "id": "78059efc",
   "metadata": {},
   "outputs": [],
   "source": [
    "train_err, val_err = train_model(model, train_set, val_set, epochs=10000, val_every_x_epochs=5, plot=True, model_fname=\"c8_10000_epochs.pt\")"
   ]
  },
  {
   "cell_type": "code",
   "execution_count": null,
   "id": "ba7acd43",
   "metadata": {},
   "outputs": [],
   "source": []
  }
 ],
 "metadata": {
  "kernelspec": {
   "display_name": "Python 3 (ipykernel)",
   "language": "python",
   "name": "python3"
  },
  "language_info": {
   "codemirror_mode": {
    "name": "ipython",
    "version": 3
   },
   "file_extension": ".py",
   "mimetype": "text/x-python",
   "name": "python",
   "nbconvert_exporter": "python",
   "pygments_lexer": "ipython3",
   "version": "3.9.12"
  }
 },
 "nbformat": 4,
 "nbformat_minor": 5
}
